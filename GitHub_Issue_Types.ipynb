{
  "nbformat": 4,
  "nbformat_minor": 0,
  "metadata": {
    "colab": {
      "name": "GitHub_Issue_Types.ipynb",
      "provenance": [],
      "include_colab_link": true
    },
    "kernelspec": {
      "name": "python3",
      "display_name": "Python 3"
    },
    "accelerator": "GPU"
  },
  "cells": [
    {
      "cell_type": "markdown",
      "metadata": {
        "id": "view-in-github",
        "colab_type": "text"
      },
      "source": [
        "<a href=\"https://colab.research.google.com/github/junkgear/DrQA/blob/master/GitHub_Issue_Types.ipynb\" target=\"_parent\"><img src=\"https://colab.research.google.com/assets/colab-badge.svg\" alt=\"Open In Colab\"/></a>"
      ]
    },
    {
      "cell_type": "code",
      "metadata": {
        "id": "rUG6-dADZbfc",
        "colab_type": "code",
        "colab": {}
      },
      "source": [
        "import pandas as pd\n",
        "from sklearn.model_selection import train_test_split\n",
        "\n",
        "pd.set_option('max_colwidth', 1000)\n",
        "\n",
        "df = pd.concat([pd.read_csv(f'https://storage.googleapis.com/codenet/issue_labels/00000000000{i}.csv.gz')\n",
        "                for i in range(10)])"
      ],
      "execution_count": 0,
      "outputs": []
    },
    {
      "cell_type": "code",
      "metadata": {
        "id": "ExzD_mZTaiw-",
        "colab_type": "code",
        "colab": {
          "base_uri": "https://localhost:8080/",
          "height": 734
        },
        "outputId": "a4904558-ff75-44c5-a984-ab5c7888efcb"
      },
      "source": [
        "df.head()"
      ],
      "execution_count": 2,
      "outputs": [
        {
          "output_type": "execute_result",
          "data": {
            "text/html": [
              "<div>\n",
              "<style scoped>\n",
              "    .dataframe tbody tr th:only-of-type {\n",
              "        vertical-align: middle;\n",
              "    }\n",
              "\n",
              "    .dataframe tbody tr th {\n",
              "        vertical-align: top;\n",
              "    }\n",
              "\n",
              "    .dataframe thead th {\n",
              "        text-align: right;\n",
              "    }\n",
              "</style>\n",
              "<table border=\"1\" class=\"dataframe\">\n",
              "  <thead>\n",
              "    <tr style=\"text-align: right;\">\n",
              "      <th></th>\n",
              "      <th>url</th>\n",
              "      <th>repo</th>\n",
              "      <th>title</th>\n",
              "      <th>body</th>\n",
              "      <th>num_labels</th>\n",
              "      <th>labels</th>\n",
              "      <th>c_bug</th>\n",
              "      <th>c_feature</th>\n",
              "      <th>c_question</th>\n",
              "      <th>class_int</th>\n",
              "    </tr>\n",
              "  </thead>\n",
              "  <tbody>\n",
              "    <tr>\n",
              "      <th>0</th>\n",
              "      <td>\"https://github.com/F5Networks/f5-openstack-lbaasv2-driver/issues/835\"</td>\n",
              "      <td>F5Networks/f5-openstack-lbaasv2-driver</td>\n",
              "      <td>test_l7policies_and_rules.py:testl7basicupdate.test_policy_deployment_operand_match fails in setup error was encountered instead of active/onine</td>\n",
              "      <td>title: test_l7policies_and_rules.py:testl7basicupdate.test_policy_deployment_operand_match fails in setup error was encountered instead of active/onine\\r   attachments: \\r   details: \\r \\r       suggested issue type\\r test bug\\r \\r       traceback\\r    \\r   0 traceback  most recent call last :\\r   1   file \\ /home-local/jenkins/workspace/openstack/driver/newton/11.5.4-undercloud-vxlan/f5lbaasdriver/test/tempest/tests/scenario/test_l7policies_and_rules.py\\ , line 305, in setup\\r   2     super testl7basicupdate, self .setup  \\r   3   file \\ /home-local/jenkins/workspace/openstack/driver/newton/11.5.4-undercloud-vxlan/f5lbaasdriver/test/tempest/tests/scenario/test_l7policies_and_rules.py\\ , line 26, in setup\\r   4     super testl7basic, self .setup  \\r   5   file \\ /home-local/jenkins/workspace/openstack/driver/newton/11.5.4-undercloud-vxlan/f5lbaasdriver/test/tempest/tests/scenario/f5_base.py\\ , line 33, in setup\\r   6     self._create_load_balancer  \\r   7   file \\ /home-local/jenki...</td>\n",
              "      <td>3</td>\n",
              "      <td>[\"P3\", \"S3\", \"test-bug\"]</td>\n",
              "      <td>True</td>\n",
              "      <td>False</td>\n",
              "      <td>False</td>\n",
              "      <td>0</td>\n",
              "    </tr>\n",
              "    <tr>\n",
              "      <th>1</th>\n",
              "      <td>\"https://github.com/aspnet/Mvc/issues/6339\"</td>\n",
              "      <td>aspnet/Mvc</td>\n",
              "      <td>testing all controllers dependency injection</td>\n",
              "      <td>i'm writing integration tests for my application and i would like to know how to test if i correctly registered all of my dependencies on startup. how can i instantiate all controllers using a testserver and look for exceptions?</td>\n",
              "      <td>1</td>\n",
              "      <td>[\"question\"]</td>\n",
              "      <td>False</td>\n",
              "      <td>False</td>\n",
              "      <td>True</td>\n",
              "      <td>2</td>\n",
              "    </tr>\n",
              "    <tr>\n",
              "      <th>2</th>\n",
              "      <td>\"https://github.com/ionic-team/ionic-cli/issues/3044\"</td>\n",
              "      <td>ionic-team/ionic-cli</td>\n",
              "      <td>testing ionic4 - serve shows two displays</td>\n",
              "      <td>\\r   description:  \\r ionic serve shows two displays\\r \\r   steps to reproduce:  \\r    \\r c:\\\\ae\\\\adaept.com\\\\aeion4&gt;ionic serve --lab --browser chrome\\r &gt; ng serve --host=0.0.0.0 --port=8100 --progress=false\\r &gt; ionic-lab http://localhost:8100 --host localhost --port 8200 --app-name aeion4 --app-version 0.0.1\\r \\r  ok  development server running!\\r \\r      lab: http://localhost:8200\\r      local: http://localhost:8100\\r      external: http://192.168.1.67:8100\\r      devapp: aeion4@8100 on merry-christmas\\r \\r  info  browser window opened to http://localhost:8200!\\r \\r  ng  webpack: wait until bundle finished: /?ionicplatform=ios&amp;ionicstatusbarpadding=true\\r  ng  webpack: wait until bundle finished: /?ionicplatform=android\\r  ng  date: 2018-03-28t04:53:39.582z\\r  ng  hash: beda4693df6225dea695\\r  ng  time: 13053ms\\r  ng  chunk {inline} inline.bundle.js  inline  3.85 kb  entry   rendered \\r  ng  chunk {main} main.bundle.js  main  23.5 kb  initial   rendered \\r  ng  chunk {polyfills}...</td>\n",
              "      <td>1</td>\n",
              "      <td>[\"bug\"]</td>\n",
              "      <td>True</td>\n",
              "      <td>False</td>\n",
              "      <td>False</td>\n",
              "      <td>0</td>\n",
              "    </tr>\n",
              "    <tr>\n",
              "      <th>3</th>\n",
              "      <td>\"https://github.com/thefarwind/chip-8/issues/21\"</td>\n",
              "      <td>thefarwind/chip-8</td>\n",
              "      <td>tests are all broken</td>\n",
              "      <td>when switching chip8 such that the audio, display, and input are all fed to a new function, all the tests were broken. this is blocked until after audio, display, and input are implemented as traits  see  20 .</td>\n",
              "      <td>2</td>\n",
              "      <td>[\"bug\", \"tests\"]</td>\n",
              "      <td>True</td>\n",
              "      <td>False</td>\n",
              "      <td>False</td>\n",
              "      <td>0</td>\n",
              "    </tr>\n",
              "    <tr>\n",
              "      <th>4</th>\n",
              "      <td>\"https://github.com/n-sokolov/CoffeeShop/issues/1\"</td>\n",
              "      <td>n-sokolov/CoffeeShop</td>\n",
              "      <td>tests for paging</td>\n",
              "      <td>_  context  _: paging mechanism must be tested.\\r \\r _  problem  _: tests use the same database as the main application, so there is no guarantee that tests will be run against the same environment over a collection.\\r \\r _  solution  _: separate main database and test database; drop collection every time a test is run.</td>\n",
              "      <td>1</td>\n",
              "      <td>[\"enhancement\"]</td>\n",
              "      <td>False</td>\n",
              "      <td>True</td>\n",
              "      <td>False</td>\n",
              "      <td>1</td>\n",
              "    </tr>\n",
              "  </tbody>\n",
              "</table>\n",
              "</div>"
            ],
            "text/plain": [
              "                                                                      url  ... class_int\n",
              "0  \"https://github.com/F5Networks/f5-openstack-lbaasv2-driver/issues/835\"  ...         0\n",
              "1                             \"https://github.com/aspnet/Mvc/issues/6339\"  ...         2\n",
              "2                   \"https://github.com/ionic-team/ionic-cli/issues/3044\"  ...         0\n",
              "3                        \"https://github.com/thefarwind/chip-8/issues/21\"  ...         0\n",
              "4                      \"https://github.com/n-sokolov/CoffeeShop/issues/1\"  ...         1\n",
              "\n",
              "[5 rows x 10 columns]"
            ]
          },
          "metadata": {
            "tags": []
          },
          "execution_count": 2
        }
      ]
    },
    {
      "cell_type": "code",
      "metadata": {
        "id": "_sA_RAGfZfAk",
        "colab_type": "code",
        "colab": {}
      },
      "source": [
        "#split data into train/test\n",
        "traindf, testdf = train_test_split(df, test_size=.15)"
      ],
      "execution_count": 0,
      "outputs": []
    },
    {
      "cell_type": "code",
      "metadata": {
        "id": "czIZynDrZiz7",
        "colab_type": "code",
        "colab": {}
      },
      "source": [
        "traindf.to_pickle('traindf.pkl')\n",
        "testdf.to_pickle('testdf.pkl')"
      ],
      "execution_count": 0,
      "outputs": []
    },
    {
      "cell_type": "code",
      "metadata": {
        "id": "qWFiiTmSZpbu",
        "colab_type": "code",
        "colab": {
          "base_uri": "https://localhost:8080/",
          "height": 51
        },
        "outputId": "067b7955-e95c-4156-c7c9-1387a98ef597"
      },
      "source": [
        "#print out stats about shape of data\n",
        "print(f'Train: {traindf.shape[0]:,} rows {traindf.shape[1]:,} columns')\n",
        "print(f'Test: {testdf.shape[0]:,} rows {testdf.shape[1]:,} columns')"
      ],
      "execution_count": 5,
      "outputs": [
        {
          "output_type": "stream",
          "text": [
            "Train: 2,698,578 rows 10 columns\n",
            "Test: 476,220 rows 10 columns\n"
          ],
          "name": "stdout"
        }
      ]
    },
    {
      "cell_type": "code",
      "metadata": {
        "id": "XrSj_AZBa0HI",
        "colab_type": "code",
        "colab": {}
      },
      "source": [
        "from ktext.preprocess import processor\n",
        "import dill as dpickle\n",
        "import numpy as np"
      ],
      "execution_count": 0,
      "outputs": []
    },
    {
      "cell_type": "code",
      "metadata": {
        "id": "shjgwt4MeGpL",
        "colab_type": "code",
        "colab": {
          "base_uri": "https://localhost:8080/",
          "height": 34
        },
        "outputId": "debe1f2b-b997-485c-e3fb-b08714083945"
      },
      "source": [
        "%%time\n",
        "\n",
        "train_body_raw = traindf.body.tolist()\n",
        "train_title_raw = traindf.title.tolist()\n",
        "\n",
        "# Clean, tokenize, and apply padding / truncating such that each document length = 75th percentile for the dataset.\n",
        "#  also, retain only the top keep_n words in the vocabulary and set the remaining words\n",
        "#  to 1 which will become common index for rare words \n",
        "\n",
        "# process the issue body data\n",
        "body_pp = processor(heuristic_pct_padding=.75, keep_n=8000)\n",
        "train_body_vecs = body_pp.fit_transform(train_body_raw)\n",
        "\n",
        "# process the title data\n",
        "title_pp = processor(heuristic_pct_padding=.75, keep_n=4500)\n",
        "train_title_vecs = title_pp.fit_transform(train_title_raw)"
      ],
      "execution_count": 0,
      "outputs": [
        {
          "output_type": "stream",
          "text": [
            "WARNING:root:....tokenizing data\n"
          ],
          "name": "stderr"
        }
      ]
    },
    {
      "cell_type": "code",
      "metadata": {
        "id": "LedI0YEqexbd",
        "colab_type": "code",
        "colab": {}
      },
      "source": [
        "#Transform\n",
        "test_body_raw = testdf.body.tolist()\n",
        "test_title_raw = testdf.title.tolist()\n",
        "\n",
        "test_body_vecs = body_pp.transform_parallel(test_body_raw)\n",
        "test_title_vecs = title_pp.transform_parallel(test_title_raw)"
      ],
      "execution_count": 0,
      "outputs": []
    },
    {
      "cell_type": "code",
      "metadata": {
        "id": "n4sot9isC7Rt",
        "colab_type": "code",
        "colab": {}
      },
      "source": [
        "train_labels = np.expand_dims(traindf.class_int.values, -1)\n",
        "test_labels = np.expand_dims(testdf.class_int.values, -1)"
      ],
      "execution_count": 0,
      "outputs": []
    },
    {
      "cell_type": "code",
      "metadata": {
        "id": "rkRqRrOVDLAc",
        "colab_type": "code",
        "colab": {}
      },
      "source": [
        "import tensorflow as tf\n",
        "from tensorflow.keras.utils import multi_gpu_model\n",
        "from tensorflow.keras.models import Model\n",
        "from tensorflow.keras.layers import Input, GRU, Dense, Embedding, BatchNormalization, Concatenate\n",
        "from tensorflow.keras.optimizers import Adam\n",
        "import numpy as np"
      ],
      "execution_count": 0,
      "outputs": []
    },
    {
      "cell_type": "code",
      "metadata": {
        "id": "r3kNq4qFDVbr",
        "colab_type": "code",
        "colab": {}
      },
      "source": [
        "issue_body_doc_length = train_body_vecs.shape[1]\n",
        "issue_title_doc_length = train_title_vecs.shape[1]\n",
        "\n",
        "body_vocab_size = body_pp.n_tokens\n",
        "title_vocab_size = title_pp.n_tokens\n",
        "\n",
        "num_classes = len(set(train_labels[:, 0]))\n",
        "assert num_classes == 3"
      ],
      "execution_count": 0,
      "outputs": []
    },
    {
      "cell_type": "code",
      "metadata": {
        "id": "apb9XYHSDVmr",
        "colab_type": "code",
        "colab": {}
      },
      "source": [
        "#Building Model\n",
        "body_input = Input(shape=(issue_body_doc_length,), name='Body-Input')\n",
        "title_input = Input(shape=(issue_title_doc_length,), name='Title-Input')\n",
        "\n",
        "body = Embedding(body_vocab_size, 50, name='Body-Embedding')(body_input)\n",
        "title = Embedding(title_vocab_size, 50, name='Title-Embedding')(title_input)\n",
        "\n",
        "body = BatchNormalization()(body)\n",
        "body = GRU(100, name='Body-Encoder')(body)\n",
        "\n",
        "title = BatchNormalization()(title)\n",
        "title = GRU(75, name='Title-Encoder')(title)\n",
        "\n",
        "x = Concatenate(name='Concat')([body, title])\n",
        "x = BatchNormalization()(x)\n",
        "out = Dense(num_classes, activation='softmax')(x)\n",
        "\n",
        "model = Model([body_input, title_input], out)\n",
        "\n",
        "model.compile(optimizer=Adam(lr=0.001), \n",
        "              loss='sparse_categorical_crossentropy', \n",
        "              metrics=['accuracy'])"
      ],
      "execution_count": 0,
      "outputs": []
    },
    {
      "cell_type": "code",
      "metadata": {
        "id": "gzdX66kkDVti",
        "colab_type": "code",
        "colab": {}
      },
      "source": [
        "#Training\n",
        "batch_size = 900\n",
        "epochs = 4\n",
        "history = model.fit(x=[train_body_vecs, train_title_vecs], \n",
        "                    y=train_labels,\n",
        "                    batch_size=batch_size,\n",
        "                    epochs=epochs,\n",
        "                    validation_data=[(test_body_vecs, test_title_vecs), test_labels])\n"
      ],
      "execution_count": 0,
      "outputs": []
    },
    {
      "cell_type": "code",
      "metadata": {
        "id": "v_oowcJgDVyo",
        "colab_type": "code",
        "colab": {}
      },
      "source": [
        "#Evaluation\n",
        "from sklearn.metrics import confusion_matrix, accuracy_score\n",
        "\n",
        "y_pred = np.argmax(best_model.predict(x=[test_body_vecs, test_title_vecs],\n",
        "                                      batch_size=15000),\n",
        "                   axis=1)\n",
        "\n",
        "#Original Labels\n",
        "y_test = test_labels[:, 0]\n",
        "\n",
        "cm = confusion_matrix(y_test, \n",
        "                      y_pred)\n",
        "print(cm)"
      ],
      "execution_count": 0,
      "outputs": []
    },
    {
      "cell_type": "code",
      "metadata": {
        "id": "Hp84xjbNDWEi",
        "colab_type": "code",
        "colab": {}
      },
      "source": [
        ""
      ],
      "execution_count": 0,
      "outputs": []
    }
  ]
}